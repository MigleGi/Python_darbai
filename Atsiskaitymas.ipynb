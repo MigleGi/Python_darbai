{
 "cells": [
  {
   "cell_type": "markdown",
   "metadata": {},
   "source": [
    "# Kompeksinių uždavinių sprendimas"
   ]
  },
  {
   "cell_type": "markdown",
   "metadata": {},
   "source": [
    "## 1 Užduotis - Studentai - pirma dalis."
   ]
  },
  {
   "cell_type": "markdown",
   "metadata": {},
   "source": [
    "- Nuskaitykite studentų duomenų failo studentai.txt duomenis ir suformuokite iš jų sąrašą list."
   ]
  },
  {
   "cell_type": "code",
   "execution_count": 37,
   "metadata": {},
   "outputs": [],
   "source": [
    "studentai=[]\n",
    "with open(\"Studentai.txt\", encoding=\"utf8\") as failas:\n",
    "    for eilute in failas:\n",
    "        eilute=eilute.rstrip(\"\\n\")\n",
    "        padalinta_eilute=eilute.split(\",\")\n",
    "        studentai.append({\n",
    "            'vardas': padalinta_eilute[0],\n",
    "            'pavarde': padalinta_eilute[1],\n",
    "            'pazymiai':padalinta_eilute[2]\n",
    "        })\n",
    "\n",
    "for studentas in studentai:\n",
    "    studentas[\"pazymiai1\"]=list(map(int, studentas[\"pazymiai\"].split()))\n",
    "\n",
    "#print(studentas)"
   ]
  },
  {
   "cell_type": "markdown",
   "metadata": {},
   "source": [
    "- Apsiskaičiuokite kiekvieno studento vidurkį ir prie vidurkio nurodykite: jei vidurkis teigiamas >= 5, studentui leidžiama laikyti egzaminą, o nei neigiamas <5 laikyti egzamino studentui neleidžiama.\n",
    "- Išveskite atskirose eilutėse gražiai suformuotą informaciją apie studentus.\n",
    "- Spausdinkite duomenis eilutėmis į rezultatų failą - rezultatai.txt"
   ]
  },
  {
   "cell_type": "code",
   "execution_count": 38,
   "metadata": {},
   "outputs": [
    {
     "name": "stdout",
     "output_type": "stream",
     "text": [
      "Sąraše yra 25 studentai.\n",
      "Vardas - Simas, pavardė -  Simaitis, pažymiai -  8 10 8 10 7 9 7 10 8 6 9 10 8 7 6, vidurkis - 8.2 - Egzaminą laikyti leidžiama\n",
      "Vardas - Jonas, pavardė -  Jonaitis, pažymiai -  6 6 7 8 6 10 8 5 9 8 6 10 7 6 5, vidurkis - 7.1 - Egzaminą laikyti leidžiama\n",
      "Vardas - Linas, pavardė -  Linaitis, pažymiai -  7 10 5 6 9 7 8 7 8 10 7 9 10 9 8, vidurkis - 8.0 - Egzaminą laikyti leidžiama\n",
      "Vardas - Petras, pavardė -  Petraitis, pažymiai -  10 10 5 8 7 5 10 9 8 7 6 5 5 10 5, vidurkis - 7.3 - Egzaminą laikyti leidžiama\n",
      "Vardas - Auksė, pavardė -  Auksaitė, pažymiai -  6 7 4 7 9 10 8 8 8 9 10 10 9 7 6, vidurkis - 7.9 - Egzaminą laikyti leidžiama\n",
      "Vardas - Rokas, pavardė -  Rokaitis, pažymiai -  9 10 10 9 10 8 10 10 9 8 8 9 10 10 9, vidurkis - 9.3 - Egzaminą laikyti leidžiama\n",
      "Vardas - Karolina, pavardė -  Karolaitė, pažymiai -  10 10 7 10 10 9 10 8 9 8 8 6 7 9 8, vidurkis - 8.6 - Egzaminą laikyti leidžiama\n",
      "Vardas - Rytis, pavardė -  Ryčiauskas, pažymiai -  8 5 7 8 7 4 9 6 5 9 7 6 8 8 10, vidurkis - 7.1 - Egzaminą laikyti leidžiama\n",
      "Vardas - Gabija, pavardė -  Gabijaitė, pažymiai -  6 4 9 7 8 9 8 6 8 6 7 10 9 8 10, vidurkis - 7.7 - Egzaminą laikyti leidžiama\n",
      "Vardas - Mantas, pavardė -  Mantaitis, pažymiai -  8 9 10 7 6 9 5 9 4 5 5 9 6 10 9, vidurkis - 7.4 - Egzaminą laikyti leidžiama\n",
      "Vardas - Eglė, pavardė -  Eglaitė, pažymiai -  5 4 6 5 5 4 5 4 6 5 3 4 7 4 4, vidurkis - 4.7 - Egzamino laikyti neleidžiama\n",
      "Vardas - Aurimas, pavardė -  Aurimaitis, pažymiai -  10 10 5 8 6 8 8 7 9 5 9 10 6 8 7, vidurkis - 7.7 - Egzaminą laikyti leidžiama\n",
      "Vardas - Justas, pavardė -  Justaitis, pažymiai -  8 8 8 9 8 9 7 8 4 5 8 6 8 7 6, vidurkis - 7.3 - Egzaminą laikyti leidžiama\n",
      "Vardas - Laura, pavardė -  Lauraitė, pažymiai -  6 7 8 7 10 5 10 8 7 8 10 10 9 10 9, vidurkis - 8.3 - Egzaminą laikyti leidžiama\n",
      "Vardas - Tomas, pavardė -  Tomaitis, pažymiai -  4 4 5 5 4 5 5 5 4 5 6 5 6 5 5, vidurkis - 4.9 - Egzamino laikyti neleidžiama\n",
      "Vardas - Ema, pavardė -  Emaitė, pažymiai -  4 4 5 4 5 5 4 6 5 5 5 5 5 5 6, vidurkis - 4.9 - Egzamino laikyti neleidžiama\n",
      "Vardas - Dovydas, pavardė -  Dovydaitis, pažymiai -  8 5 6 7 6 7 5 9 8 10 8 9 7 10 6, vidurkis - 7.4 - Egzaminą laikyti leidžiama\n",
      "Vardas - Austėja, pavardė -  Austėjaitė, pažymiai -  8 7 7 6 7 8 7 10 8 8 7 6 9 9 5, vidurkis - 7.5 - Egzaminą laikyti leidžiama\n",
      "Vardas - Lukas, pavardė -  Lukaitis, pažymiai -  8 10 10 9 8 8 10 10 9 10 10 9 9 10 10, vidurkis - 9.3 - Egzaminą laikyti leidžiama\n",
      "Vardas - Giedrė, pavardė -  Giedraitė, pažymiai -  10 5 8 4 5 6 8 7 10 7 10 9 6 5 8, vidurkis - 7.2 - Egzaminą laikyti leidžiama\n",
      "Vardas - Nerijus, pavardė -  Nerijūnas, pažymiai -  8 5 8 4 7 9 8 7 9 9 10 7 8 9 8, vidurkis - 7.7 - Egzaminą laikyti leidžiama\n",
      "Vardas - Vaida, pavardė -  Vaidaitė, pažymiai -  8 7 7 7 7 7 8 6 7 10 10 8 7 8 8, vidurkis - 7.7 - Egzaminą laikyti leidžiama\n",
      "Vardas - Edgaras, pavardė -  Edgaraitis, pažymiai -  7 8 9 4 9 8 6 7 9 9 10 8 8 7 8, vidurkis - 7.8 - Egzaminą laikyti leidžiama\n",
      "Vardas - Aistė, pavardė -  Aistytė, pažymiai -  6 5 5 4 5 6 6 4 6 4 5 5 4 5 5, vidurkis - 5.0 - Egzaminą laikyti leidžiama\n",
      "Vardas - Diana, pavardė -  Dianaitė, pažymiai -  4 4 5 4 4 6 5 4 6 5 5 4 5 5 4, vidurkis - 4.7 - Egzamino laikyti neleidžiama\n",
      "21 - studentams leidžiama laikyti egzminą.\n",
      "4 - studentams neleidžiama laikyti egzamino.\n"
     ]
    }
   ],
   "source": [
    "with open(\"rezultatai.txt\", \"w\", encoding=\"utf8\") as failas:   \n",
    "    # Skaičiuojamas studentų skaičius:\n",
    "    studentu_kiekis=len(studentai)\n",
    "    print(f\"Sąraše yra {studentu_kiekis} studentai.\")\n",
    "    failas.write(f\"Sąraše yra {studentu_kiekis} studentai.\\n\")\n",
    "\n",
    "    # Skaičiuojamas kiekvieno studento vidurkis, papildant juo žodyną:\n",
    "    for studentas in studentai:\n",
    "        studentas['vidurkis']=round(sum(studentas[\"pazymiai1\"])/len(studentas[\"pazymiai1\"]),1)\n",
    "        if studentas[\"vidurkis\"]>=5:\n",
    "            print(f\"Vardas - {studentas[\"vardas\"]}, pavardė - {studentas[\"pavarde\"]}, pažymiai - {studentas[\"pazymiai\"]}, vidurkis - {studentas[\"vidurkis\"]} - Egzaminą laikyti leidžiama\")\n",
    "            failas.write(f\"Vardas - {studentas[\"vardas\"]}, pavardė - {studentas[\"pavarde\"]}, vidurkis - {studentas[\"vidurkis\"]}\\n\")\n",
    "        else:\n",
    "            print(f\"Vardas - {studentas[\"vardas\"]}, pavardė - {studentas[\"pavarde\"]}, pažymiai - {studentas[\"pazymiai\"]}, vidurkis - {studentas[\"vidurkis\"]} - Egzamino laikyti neleidžiama\")\n",
    "            failas.write(f\"Vardas - {studentas[\"vardas\"]}, pavardė - {studentas[\"pavarde\"]}, vidurkis - {studentas[\"vidurkis\"]}\\n\")\n",
    "\n",
    "    # Skaičiuojama, kiek studentų gali laikyti egzaminą ir kiek negali:\n",
    "    teigiamas=0\n",
    "    neigiamas=0\n",
    "    for studentas in studentai:\n",
    "        if studentas['vidurkis']>=5:\n",
    "            teigiamas+=1\n",
    "        else:\n",
    "            neigiamas+=1\n",
    "            \n",
    "    print(f\"{teigiamas} - studentams leidžiama laikyti egzminą.\")\n",
    "    print(f\"{neigiamas} - studentams neleidžiama laikyti egzamino.\")\n",
    "    failas.write(f\"{teigiamas} - studentams leidžiama laikyti egzminą.\\n\")\n",
    "    failas.write(f\"{neigiamas} - studentams neleidžiama laikyti egzamino.\")"
   ]
  },
  {
   "cell_type": "markdown",
   "metadata": {},
   "source": [
    "## 2 Užduotis - Studentai - antra dalis."
   ]
  },
  {
   "cell_type": "markdown",
   "metadata": {},
   "source": [
    "- Nuskaitykite 1 užduoties rezultatų failą - rezutatai.txt\n"
   ]
  },
  {
   "cell_type": "code",
   "execution_count": 39,
   "metadata": {},
   "outputs": [
    {
     "name": "stdout",
     "output_type": "stream",
     "text": [
      "[['Simas', 'Simaitis', '8.2'], ['Jonas', 'Jonaitis', '7.1'], ['Linas', 'Linaitis', '8.0'], ['Petras', 'Petraitis', '7.3'], ['Auksė', 'Auksaitė', '7.9'], ['Rokas', 'Rokaitis', '9.3'], ['Karolina', 'Karolaitė', '8.6'], ['Rytis', 'Ryčiauskas', '7.1'], ['Gabija', 'Gabijaitė', '7.7'], ['Mantas', 'Mantaitis', '7.4'], ['Eglė', 'Eglaitė', '4.7'], ['Aurimas', 'Aurimaitis', '7.7'], ['Justas', 'Justaitis', '7.3'], ['Laura', 'Lauraitė', '8.3'], ['Tomas', 'Tomaitis', '4.9'], ['Ema', 'Emaitė', '4.9'], ['Dovydas', 'Dovydaitis', '7.4'], ['Austėja', 'Austėjaitė', '7.5'], ['Lukas', 'Lukaitis', '9.3'], ['Giedrė', 'Giedraitė', '7.2'], ['Nerijus', 'Nerijūnas', '7.7'], ['Vaida', 'Vaidaitė', '7.7'], ['Edgaras', 'Edgaraitis', '7.8'], ['Aistė', 'Aistytė', '5.0'], ['Diana', 'Dianaitė', '4.7']]\n"
     ]
    }
   ],
   "source": [
    "import re\n",
    "studentai1=[]\n",
    "with open(\"rezultatai.txt\", encoding=\"utf8\") as failas:\n",
    "    for eilute in failas:\n",
    "        eilute=eilute.rstrip(\"\\n\")\n",
    "        isskaidyta = re.split(r'[-|,| ]+', eilute) \n",
    "        #print(isskaidyta)\n",
    "        if isskaidyta[0].lower() == \"vardas\":\n",
    "            studentai1.append([isskaidyta[1], isskaidyta[3], isskaidyta[5]])\n",
    "print(studentai1)"
   ]
  },
  {
   "cell_type": "markdown",
   "metadata": {},
   "source": [
    "- Raskite koks didžiausias ir koks mažiausias iš vidurkių.\n",
    "- Raskite kurio studento/studentų vidurkis didžiausias ir spausdinkite jo/jų visų duomenis.\n",
    "- Atsispausdinkite ir tarpinius rezultatus į ekraną.\n",
    "- Papildykite (append - \"a\") rezultatai.txt informacija."
   ]
  },
  {
   "cell_type": "code",
   "execution_count": 40,
   "metadata": {},
   "outputs": [
    {
     "name": "stdout",
     "output_type": "stream",
     "text": [
      "Vardas - Simas, pavardė -  Simaitis, vidurkis - 8.2\n",
      "Vardas - Jonas, pavardė -  Jonaitis, vidurkis - 7.1\n",
      "Vardas - Linas, pavardė -  Linaitis, vidurkis - 8.0\n",
      "Vardas - Petras, pavardė -  Petraitis, vidurkis - 7.3\n",
      "Vardas - Auksė, pavardė -  Auksaitė, vidurkis - 7.9\n",
      "Vardas - Rokas, pavardė -  Rokaitis, vidurkis - 9.3\n",
      "Vardas - Karolina, pavardė -  Karolaitė, vidurkis - 8.6\n",
      "Vardas - Rytis, pavardė -  Ryčiauskas, vidurkis - 7.1\n",
      "Vardas - Gabija, pavardė -  Gabijaitė, vidurkis - 7.7\n",
      "Vardas - Mantas, pavardė -  Mantaitis, vidurkis - 7.4\n",
      "Vardas - Eglė, pavardė -  Eglaitė, vidurkis - 4.7\n",
      "Vardas - Aurimas, pavardė -  Aurimaitis, vidurkis - 7.7\n",
      "Vardas - Justas, pavardė -  Justaitis, vidurkis - 7.3\n",
      "Vardas - Laura, pavardė -  Lauraitė, vidurkis - 8.3\n",
      "Vardas - Tomas, pavardė -  Tomaitis, vidurkis - 4.9\n",
      "Vardas - Ema, pavardė -  Emaitė, vidurkis - 4.9\n",
      "Vardas - Dovydas, pavardė -  Dovydaitis, vidurkis - 7.4\n",
      "Vardas - Austėja, pavardė -  Austėjaitė, vidurkis - 7.5\n",
      "Vardas - Lukas, pavardė -  Lukaitis, vidurkis - 9.3\n",
      "Vardas - Giedrė, pavardė -  Giedraitė, vidurkis - 7.2\n",
      "Vardas - Nerijus, pavardė -  Nerijūnas, vidurkis - 7.7\n",
      "Vardas - Vaida, pavardė -  Vaidaitė, vidurkis - 7.7\n",
      "Vardas - Edgaras, pavardė -  Edgaraitis, vidurkis - 7.8\n",
      "Vardas - Aistė, pavardė -  Aistytė, vidurkis - 5.0\n",
      "Vardas - Diana, pavardė -  Dianaitė, vidurkis - 4.7\n",
      "21 - studentams leidžiama laikyti egzminą.\n",
      "4 - studentams neleidžiama laikyti egzamino.\n",
      "Apdorotas studentų sąrašas:\n",
      "['Jonas', 'Jonaitis', '7.1']\n",
      "['Rokas', 'Rokaitis', '9.3']\n",
      "['Eglė', 'Eglaitė', '4.7']\n",
      "Studentai turintys didžiausią vidurkį:\n",
      "Vardas - Rokas, pavarde - Rokaitis, vidurkis - 9.3\n",
      "Vardas - Lukas, pavarde - Lukaitis, vidurkis - 9.3\n",
      "Didžiausias vidurkis - 9.3\n"
     ]
    }
   ],
   "source": [
    "with open(\"rezultatai.txt\", encoding=\"utf8\") as failas:\n",
    "    failas.readline()\n",
    "    tekstas = failas.read()\n",
    "    print(tekstas)\n",
    "\n",
    "with open(\"rezultatai.txt\", \"a\", encoding=\"utf8\") as failas:\n",
    "    print(\"Apdorotas studentų sąrašas:\")\n",
    "    failas.write(\"Studentai turintys didžiausią vidurkį:\\n\")\n",
    "\n",
    "    max_vidurkis_stud=studentai1[0]\n",
    "    min_vidurkis_stud=studentai1[0]\n",
    "\n",
    "    for studentas in studentai1:\n",
    "        if studentas[2] > max_vidurkis_stud[2]:\n",
    "            max_vidurkis_stud=studentas\n",
    "            print(studentas)\n",
    "        if studentas[2] < min_vidurkis_stud[2]:\n",
    "            min_vidurkis_stud=studentas\n",
    "            print(studentas)\n",
    "\n",
    "\n",
    "    print(\"Studentai turintys didžiausią vidurkį:\")  \n",
    "    for studentas in studentai1:\n",
    "        if studentas[2]==max_vidurkis_stud[2]:\n",
    "            print(f\"Vardas - {studentas[0]}, pavarde - {studentas[1]}, vidurkis - {studentas[2]}\")\n",
    "            failas.write(f\"Vardas - {studentas[0]}, pavardė - {studentas[1]}, vidurkis - {studentas[2]}\\n\")\n",
    "    print(f\"Didžiausias vidurkis - {max_vidurkis_stud[2]}\")\n",
    "    failas.write(f\"Didžiausias vidurkis - {max_vidurkis_stud[2]}\")"
   ]
  }
 ],
 "metadata": {
  "kernelspec": {
   "display_name": "Python 3",
   "language": "python",
   "name": "python3"
  },
  "language_info": {
   "codemirror_mode": {
    "name": "ipython",
    "version": 3
   },
   "file_extension": ".py",
   "mimetype": "text/x-python",
   "name": "python",
   "nbconvert_exporter": "python",
   "pygments_lexer": "ipython3",
   "version": "3.13.1"
  }
 },
 "nbformat": 4,
 "nbformat_minor": 2
}
