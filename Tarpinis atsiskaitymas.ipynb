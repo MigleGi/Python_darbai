{
 "cells": [
  {
   "attachments": {},
   "cell_type": "markdown",
   "metadata": {},
   "source": [
    "# Žinių užtvirtinimas (1)"
   ]
  },
  {
   "attachments": {},
   "cell_type": "markdown",
   "metadata": {},
   "source": [
    "## Užduoties tikslas\n",
    "\n",
    "Suskaičiuoti kiek duonos kepalų kepykla sugebės iškepti per dieną, ar spės įgyvendinti visus dienos užsakymus ir suskaičiuoti kiek iš jų uždirbs pelno."
   ]
  },
  {
   "attachments": {},
   "cell_type": "markdown",
   "metadata": {},
   "source": [
    "## Duomenys\n",
    "\n",
    "Apibrėžti duomenys:\n",
    "\n",
    "- Darbo valandų per dieną - 8 val.\n",
    "\n",
    "Jūsų suvedami duomenys:\n",
    "\n",
    "- Kiek darbuotojas gali iškepti kepalų per valandą.\n",
    "- Kiek darbuotojų turi kepykla.\n",
    "- Vieno kepalo savikaina.\n",
    "- Vieno kepalo pardavimo kaina.\n",
    "- Kiek kepykla turi tą dieną iškepti kepalų (užsakymai)."
   ]
  },
  {
   "cell_type": "code",
   "execution_count": 47,
   "metadata": {},
   "outputs": [],
   "source": [
    "# Susikurkite kintamuosius ir priskirkite informaciją jiems...\n",
    "valandos = 8 # Darbo valandų per dieną - 8 val.\n",
    "kiekis=int(input(\"Kiek darbuotojas gali iškepti kepalų per valandą?\"))\n",
    "darbuotojai=int(input(\"Kiek darbuotojų turi kepykla?\"))\n",
    "savikaina = float(input(\"Vieno kepalo savikaina\"))\n",
    "kaina=float(input(\"Vieno kepalo pardavimo kaina\"))\n",
    "uzsakymai=int(input(\"Kiek kepykla turi tą dieną iškepti kepalų (užsakymai)\"))"
   ]
  },
  {
   "attachments": {},
   "cell_type": "markdown",
   "metadata": {},
   "source": [
    "## Skaičiavimai"
   ]
  },
  {
   "attachments": {},
   "cell_type": "markdown",
   "metadata": {},
   "source": [
    "Suskaičiuoti kiek kepykla per vieną darbo dieną spės iškepti duonos kepalų."
   ]
  },
  {
   "cell_type": "code",
   "execution_count": 44,
   "metadata": {},
   "outputs": [
    {
     "name": "stdout",
     "output_type": "stream",
     "text": [
      "Darbuotojų skaičius: 1, vienas darbuotojas iškepa 2 vnt.\n",
      "Kepykla per vieną darbo dieną gali iškepti 16 duonos kepalų.\n"
     ]
    }
   ],
   "source": [
    "# Rašykite kodą čia...\n",
    "# kiekis=int(input(\"Kiek darbuotojas gali iškepti kepalų per valandą?\"))\n",
    "# darbuotojai=int(input(\"Kiek darbuotojų turi kepykla?\"))\n",
    "# valandos = 8 # Darbo valandų per dieną\n",
    "dienos_kiekis=kiekis*darbuotojai*valandos\n",
    "print(f\"Darbuotojų skaičius: {darbuotojai}, vienas darbuotojas iškepa {kiekis} vnt.\")\n",
    "print(f\"Kepykla per vieną darbo dieną gali iškepti {dienos_kiekis} duonos kepalų.\")\n"
   ]
  },
  {
   "attachments": {},
   "cell_type": "markdown",
   "metadata": {},
   "source": [
    "Apskaičiuoti visų kepalų savikainą, gautas pajamas pardavus ir iš to gauto pelno dalį."
   ]
  },
  {
   "cell_type": "code",
   "execution_count": 52,
   "metadata": {},
   "outputs": [
    {
     "name": "stdout",
     "output_type": "stream",
     "text": [
      "Vieno kepalo savikaina: 0.8 Eur, pardavimo kaina 1.2 Eur, iškeptas kiekis 16\n",
      "Savikaina iš viso: 12.8 Eur, visos pardavimo pajamos: 19.2 Eur, gautas pelnas: 6.4 Eur\n"
     ]
    }
   ],
   "source": [
    "# Rašykite kodą čia...\n",
    "# savikaina = float(input(\"Vieno kepalo savikaina\"))\n",
    "# kaina=float(input(\"Vieno kepalo pardavimo kaina\"))\n",
    "visa_savikaina=dienos_kiekis*savikaina\n",
    "pajamos=kaina*dienos_kiekis\n",
    "pelnas=pajamos-visa_savikaina\n",
    "print(f\"Vieno kepalo savikaina: {savikaina} Eur, pardavimo kaina {kaina} Eur, iškeptas kiekis {dienos_kiekis}\")\n",
    "print(f\"Savikaina iš viso: {visa_savikaina} Eur, visos pardavimo pajamos: {pajamos} Eur, gautas pelnas: {round(pelnas,2)} Eur\")\n"
   ]
  },
  {
   "attachments": {},
   "cell_type": "markdown",
   "metadata": {},
   "source": [
    "Patikrinti ar kepykla spės iškepti visus tos dienos užsakymus. Jei ne, suskaičiuoti kiek kepalų nespės iškepti."
   ]
  },
  {
   "cell_type": "code",
   "execution_count": 53,
   "metadata": {},
   "outputs": [
    {
     "name": "stdout",
     "output_type": "stream",
     "text": [
      "Užsakytas kiekis 10, per dieną iškepamas kiekis: 16\n",
      "Kepykla spės iškepti 10 duonos kepalų.\n"
     ]
    }
   ],
   "source": [
    "# Rašykite kodą čia...\n",
    "# uzsakymai=int(input(\"Kiek kepykla turi tą dieną iškepti kepalų (užsakymai)\"))\n",
    "print(f\"Užsakytas kiekis {uzsakymai}, per dieną iškepamas kiekis: {dienos_kiekis}\")\n",
    "if dienos_kiekis>uzsakymai:\n",
    "    print(f\"Kepykla spės iškepti {uzsakymai} duonos kepalų.\")\n",
    "else:\n",
    "    print(f\"Kepykla nespės iškepti {uzsakymai-dienos_kiekis} duonos kepalų.\")\n"
   ]
  },
  {
   "attachments": {},
   "cell_type": "markdown",
   "metadata": {},
   "source": [
    "(Papildomai) Įvertinkite tai, kad pajamas ir pelną galite gauti tik iš parduotų kepalų. T.y. jeigu jūsų kepykla gali iškepti 100 kepalų, o užsakymų turi 120, tai skaičiuojam iš 100, nes kepykla neturės užtektinai pajėgumų visko įgyvendinti. Arba jeigu kepykla gali iškepti 100 kepalų, o užsakymų turi 80, tai skaičiuojam iš 80, nes nors ir gali iškepti daugiau nei turi užsakymų, bet negalės parduoti tų papildomų 20 kepalų."
   ]
  },
  {
   "cell_type": "code",
   "execution_count": 55,
   "metadata": {},
   "outputs": [
    {
     "name": "stdout",
     "output_type": "stream",
     "text": [
      "Įmonės pajamos iš parduotų kepalų yra: 12.0 Eur, pelnas - 4.0 Eur.\n"
     ]
    }
   ],
   "source": [
    "# Rašykite kodą čia...\n",
    "if uzsakymai>dienos_kiekis:\n",
    "    print(f\"Įmonės pajamos iš parduotų kepalų yra: {dienos_kiekis*kaina} Eur, pelnas - {round(dienos_kiekis*(kaina-savikaina),2)} Eur\")\n",
    "elif uzsakymai <dienos_kiekis:\n",
    "    print(f\"Įmonės pajamos iš parduotų kepalų yra: {uzsakymai*kaina} Eur, pelnas - {round(uzsakymai*(kaina-savikaina),2)} Eur.\")\n",
    "\n"
   ]
  }
 ],
 "metadata": {
  "kernelspec": {
   "display_name": "Python 3",
   "language": "python",
   "name": "python3"
  },
  "language_info": {
   "codemirror_mode": {
    "name": "ipython",
    "version": 3
   },
   "file_extension": ".py",
   "mimetype": "text/x-python",
   "name": "python",
   "nbconvert_exporter": "python",
   "pygments_lexer": "ipython3",
   "version": "3.13.1"
  },
  "orig_nbformat": 4,
  "vscode": {
   "interpreter": {
    "hash": "aa11ca274996316222ef16f35c5f6dbeb467b694c0b2154cdf34dcf9271d5fd0"
   }
  }
 },
 "nbformat": 4,
 "nbformat_minor": 2
}
